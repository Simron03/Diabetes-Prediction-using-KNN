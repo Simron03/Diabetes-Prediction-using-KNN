{
 "cells": [
  {
   "cell_type": "code",
   "execution_count": 1,
   "id": "b9052af2",
   "metadata": {
    "_cell_guid": "b1076dfc-b9ad-4769-8c92-a6c4dae69d19",
    "_uuid": "8f2839f25d086af736a60e9eeb907d3b93b6e0e5",
    "execution": {
     "iopub.execute_input": "2024-05-27T12:51:52.238645Z",
     "iopub.status.busy": "2024-05-27T12:51:52.237549Z",
     "iopub.status.idle": "2024-05-27T12:51:56.084626Z",
     "shell.execute_reply": "2024-05-27T12:51:56.083308Z"
    },
    "papermill": {
     "duration": 3.867755,
     "end_time": "2024-05-27T12:51:56.087819",
     "exception": false,
     "start_time": "2024-05-27T12:51:52.220064",
     "status": "completed"
    },
    "tags": []
   },
   "outputs": [
    {
     "name": "stdout",
     "output_type": "stream",
     "text": [
      "/kaggle/input/diabetes-prediction-dataset/diabetes_prediction_dataset.csv\n"
     ]
    }
   ],
   "source": [
    "# This Python 3 environment comes with many helpful analytics libraries installed\n",
    "# It is defined by the kaggle/python Docker image: https://github.com/kaggle/docker-python\n",
    "# For example, here's several helpful packages to load\n",
    "\n",
    "import numpy as np # linear algebra\n",
    "import pandas as pd # data processing, CSV file I/O (e.g. pd.read_csv)\n",
    "import matplotlib.pyplot as plt\n",
    "import seaborn as sns\n",
    "from sklearn.model_selection import train_test_split, RandomizedSearchCV\n",
    "from sklearn.preprocessing import StandardScaler\n",
    "from sklearn.neighbors import KNeighborsClassifier\n",
    "from sklearn.model_selection import cross_val_score, GridSearchCV\n",
    "from sklearn.metrics import accuracy_score, confusion_matrix, classification_report\n",
    "\n",
    "# Input data files are available in the read-only \"../input/\" directory\n",
    "# For example, running this (by clicking run or pressing Shift+Enter) will list all files under the input directory\n",
    "\n",
    "import os\n",
    "for dirname, _, filenames in os.walk('/kaggle/input'):\n",
    "    for filename in filenames:\n",
    "        print(os.path.join(dirname, filename))\n",
    "\n",
    "# You can write up to 20GB to the current directory (/kaggle/working/) that gets preserved as output when you create a version using \"Save & Run All\" \n",
    "# You can also write temporary files to /kaggle/temp/, but they won't be saved outside of the current session"
   ]
  },
  {
   "cell_type": "markdown",
   "id": "84e801b7",
   "metadata": {
    "papermill": {
     "duration": 0.014006,
     "end_time": "2024-05-27T12:51:56.115836",
     "exception": false,
     "start_time": "2024-05-27T12:51:56.101830",
     "status": "completed"
    },
    "tags": []
   },
   "source": [
    "# **Import the data**"
   ]
  },
  {
   "cell_type": "code",
   "execution_count": 2,
   "id": "3c5f3b88",
   "metadata": {
    "execution": {
     "iopub.execute_input": "2024-05-27T12:51:56.148488Z",
     "iopub.status.busy": "2024-05-27T12:51:56.147282Z",
     "iopub.status.idle": "2024-05-27T12:51:56.397965Z",
     "shell.execute_reply": "2024-05-27T12:51:56.396681Z"
    },
    "papermill": {
     "duration": 0.270703,
     "end_time": "2024-05-27T12:51:56.401208",
     "exception": false,
     "start_time": "2024-05-27T12:51:56.130505",
     "status": "completed"
    },
    "tags": []
   },
   "outputs": [],
   "source": [
    "# Importing dataset into Pandas Dataframe\n",
    "df = pd.read_csv(\"/kaggle/input/diabetes-prediction-dataset/diabetes_prediction_dataset.csv\")"
   ]
  },
  {
   "cell_type": "code",
   "execution_count": 3,
   "id": "24ff8d50",
   "metadata": {
    "execution": {
     "iopub.execute_input": "2024-05-27T12:51:56.442366Z",
     "iopub.status.busy": "2024-05-27T12:51:56.441619Z",
     "iopub.status.idle": "2024-05-27T12:51:56.488491Z",
     "shell.execute_reply": "2024-05-27T12:51:56.487120Z"
    },
    "papermill": {
     "duration": 0.070987,
     "end_time": "2024-05-27T12:51:56.491691",
     "exception": false,
     "start_time": "2024-05-27T12:51:56.420704",
     "status": "completed"
    },
    "tags": []
   },
   "outputs": [
    {
     "data": {
      "text/html": [
       "<div>\n",
       "<style scoped>\n",
       "    .dataframe tbody tr th:only-of-type {\n",
       "        vertical-align: middle;\n",
       "    }\n",
       "\n",
       "    .dataframe tbody tr th {\n",
       "        vertical-align: top;\n",
       "    }\n",
       "\n",
       "    .dataframe thead th {\n",
       "        text-align: right;\n",
       "    }\n",
       "</style>\n",
       "<table border=\"1\" class=\"dataframe\">\n",
       "  <thead>\n",
       "    <tr style=\"text-align: right;\">\n",
       "      <th></th>\n",
       "      <th>gender</th>\n",
       "      <th>age</th>\n",
       "      <th>hypertension</th>\n",
       "      <th>heart_disease</th>\n",
       "      <th>smoking_history</th>\n",
       "      <th>bmi</th>\n",
       "      <th>HbA1c_level</th>\n",
       "      <th>blood_glucose_level</th>\n",
       "      <th>diabetes</th>\n",
       "    </tr>\n",
       "  </thead>\n",
       "  <tbody>\n",
       "    <tr>\n",
       "      <th>0</th>\n",
       "      <td>Female</td>\n",
       "      <td>80.0</td>\n",
       "      <td>0</td>\n",
       "      <td>1</td>\n",
       "      <td>never</td>\n",
       "      <td>25.19</td>\n",
       "      <td>6.6</td>\n",
       "      <td>140</td>\n",
       "      <td>0</td>\n",
       "    </tr>\n",
       "    <tr>\n",
       "      <th>1</th>\n",
       "      <td>Female</td>\n",
       "      <td>54.0</td>\n",
       "      <td>0</td>\n",
       "      <td>0</td>\n",
       "      <td>No Info</td>\n",
       "      <td>27.32</td>\n",
       "      <td>6.6</td>\n",
       "      <td>80</td>\n",
       "      <td>0</td>\n",
       "    </tr>\n",
       "    <tr>\n",
       "      <th>2</th>\n",
       "      <td>Male</td>\n",
       "      <td>28.0</td>\n",
       "      <td>0</td>\n",
       "      <td>0</td>\n",
       "      <td>never</td>\n",
       "      <td>27.32</td>\n",
       "      <td>5.7</td>\n",
       "      <td>158</td>\n",
       "      <td>0</td>\n",
       "    </tr>\n",
       "    <tr>\n",
       "      <th>3</th>\n",
       "      <td>Female</td>\n",
       "      <td>36.0</td>\n",
       "      <td>0</td>\n",
       "      <td>0</td>\n",
       "      <td>current</td>\n",
       "      <td>23.45</td>\n",
       "      <td>5.0</td>\n",
       "      <td>155</td>\n",
       "      <td>0</td>\n",
       "    </tr>\n",
       "    <tr>\n",
       "      <th>4</th>\n",
       "      <td>Male</td>\n",
       "      <td>76.0</td>\n",
       "      <td>1</td>\n",
       "      <td>1</td>\n",
       "      <td>current</td>\n",
       "      <td>20.14</td>\n",
       "      <td>4.8</td>\n",
       "      <td>155</td>\n",
       "      <td>0</td>\n",
       "    </tr>\n",
       "    <tr>\n",
       "      <th>5</th>\n",
       "      <td>Female</td>\n",
       "      <td>20.0</td>\n",
       "      <td>0</td>\n",
       "      <td>0</td>\n",
       "      <td>never</td>\n",
       "      <td>27.32</td>\n",
       "      <td>6.6</td>\n",
       "      <td>85</td>\n",
       "      <td>0</td>\n",
       "    </tr>\n",
       "    <tr>\n",
       "      <th>6</th>\n",
       "      <td>Female</td>\n",
       "      <td>44.0</td>\n",
       "      <td>0</td>\n",
       "      <td>0</td>\n",
       "      <td>never</td>\n",
       "      <td>19.31</td>\n",
       "      <td>6.5</td>\n",
       "      <td>200</td>\n",
       "      <td>1</td>\n",
       "    </tr>\n",
       "    <tr>\n",
       "      <th>7</th>\n",
       "      <td>Female</td>\n",
       "      <td>79.0</td>\n",
       "      <td>0</td>\n",
       "      <td>0</td>\n",
       "      <td>No Info</td>\n",
       "      <td>23.86</td>\n",
       "      <td>5.7</td>\n",
       "      <td>85</td>\n",
       "      <td>0</td>\n",
       "    </tr>\n",
       "    <tr>\n",
       "      <th>8</th>\n",
       "      <td>Male</td>\n",
       "      <td>42.0</td>\n",
       "      <td>0</td>\n",
       "      <td>0</td>\n",
       "      <td>never</td>\n",
       "      <td>33.64</td>\n",
       "      <td>4.8</td>\n",
       "      <td>145</td>\n",
       "      <td>0</td>\n",
       "    </tr>\n",
       "    <tr>\n",
       "      <th>9</th>\n",
       "      <td>Female</td>\n",
       "      <td>32.0</td>\n",
       "      <td>0</td>\n",
       "      <td>0</td>\n",
       "      <td>never</td>\n",
       "      <td>27.32</td>\n",
       "      <td>5.0</td>\n",
       "      <td>100</td>\n",
       "      <td>0</td>\n",
       "    </tr>\n",
       "  </tbody>\n",
       "</table>\n",
       "</div>"
      ],
      "text/plain": [
       "   gender   age  hypertension  heart_disease smoking_history    bmi  \\\n",
       "0  Female  80.0             0              1           never  25.19   \n",
       "1  Female  54.0             0              0         No Info  27.32   \n",
       "2    Male  28.0             0              0           never  27.32   \n",
       "3  Female  36.0             0              0         current  23.45   \n",
       "4    Male  76.0             1              1         current  20.14   \n",
       "5  Female  20.0             0              0           never  27.32   \n",
       "6  Female  44.0             0              0           never  19.31   \n",
       "7  Female  79.0             0              0         No Info  23.86   \n",
       "8    Male  42.0             0              0           never  33.64   \n",
       "9  Female  32.0             0              0           never  27.32   \n",
       "\n",
       "   HbA1c_level  blood_glucose_level  diabetes  \n",
       "0          6.6                  140         0  \n",
       "1          6.6                   80         0  \n",
       "2          5.7                  158         0  \n",
       "3          5.0                  155         0  \n",
       "4          4.8                  155         0  \n",
       "5          6.6                   85         0  \n",
       "6          6.5                  200         1  \n",
       "7          5.7                   85         0  \n",
       "8          4.8                  145         0  \n",
       "9          5.0                  100         0  "
      ]
     },
     "execution_count": 3,
     "metadata": {},
     "output_type": "execute_result"
    }
   ],
   "source": [
    "# Displaying first 10 rows from the dataset\n",
    "df.head(10)"
   ]
  },
  {
   "cell_type": "markdown",
   "id": "73f753a0",
   "metadata": {
    "papermill": {
     "duration": 0.014031,
     "end_time": "2024-05-27T12:51:56.520407",
     "exception": false,
     "start_time": "2024-05-27T12:51:56.506376",
     "status": "completed"
    },
    "tags": []
   },
   "source": [
    "# **Explore the Data**"
   ]
  },
  {
   "cell_type": "code",
   "execution_count": 4,
   "id": "2e2e7d9c",
   "metadata": {
    "execution": {
     "iopub.execute_input": "2024-05-27T12:51:56.551692Z",
     "iopub.status.busy": "2024-05-27T12:51:56.551188Z",
     "iopub.status.idle": "2024-05-27T12:51:56.728005Z",
     "shell.execute_reply": "2024-05-27T12:51:56.726474Z"
    },
    "papermill": {
     "duration": 0.197205,
     "end_time": "2024-05-27T12:51:56.731899",
     "exception": false,
     "start_time": "2024-05-27T12:51:56.534694",
     "status": "completed"
    },
    "tags": []
   },
   "outputs": [
    {
     "data": {
      "text/html": [
       "<div>\n",
       "<style scoped>\n",
       "    .dataframe tbody tr th:only-of-type {\n",
       "        vertical-align: middle;\n",
       "    }\n",
       "\n",
       "    .dataframe tbody tr th {\n",
       "        vertical-align: top;\n",
       "    }\n",
       "\n",
       "    .dataframe thead th {\n",
       "        text-align: right;\n",
       "    }\n",
       "</style>\n",
       "<table border=\"1\" class=\"dataframe\">\n",
       "  <thead>\n",
       "    <tr style=\"text-align: right;\">\n",
       "      <th></th>\n",
       "      <th>gender</th>\n",
       "      <th>age</th>\n",
       "      <th>hypertension</th>\n",
       "      <th>heart_disease</th>\n",
       "      <th>smoking_history</th>\n",
       "      <th>bmi</th>\n",
       "      <th>HbA1c_level</th>\n",
       "      <th>blood_glucose_level</th>\n",
       "      <th>diabetes</th>\n",
       "    </tr>\n",
       "  </thead>\n",
       "  <tbody>\n",
       "    <tr>\n",
       "      <th>count</th>\n",
       "      <td>100000</td>\n",
       "      <td>100000.000000</td>\n",
       "      <td>100000.00000</td>\n",
       "      <td>100000.000000</td>\n",
       "      <td>100000</td>\n",
       "      <td>100000.000000</td>\n",
       "      <td>100000.000000</td>\n",
       "      <td>100000.000000</td>\n",
       "      <td>100000.000000</td>\n",
       "    </tr>\n",
       "    <tr>\n",
       "      <th>unique</th>\n",
       "      <td>3</td>\n",
       "      <td>NaN</td>\n",
       "      <td>NaN</td>\n",
       "      <td>NaN</td>\n",
       "      <td>6</td>\n",
       "      <td>NaN</td>\n",
       "      <td>NaN</td>\n",
       "      <td>NaN</td>\n",
       "      <td>NaN</td>\n",
       "    </tr>\n",
       "    <tr>\n",
       "      <th>top</th>\n",
       "      <td>Female</td>\n",
       "      <td>NaN</td>\n",
       "      <td>NaN</td>\n",
       "      <td>NaN</td>\n",
       "      <td>No Info</td>\n",
       "      <td>NaN</td>\n",
       "      <td>NaN</td>\n",
       "      <td>NaN</td>\n",
       "      <td>NaN</td>\n",
       "    </tr>\n",
       "    <tr>\n",
       "      <th>freq</th>\n",
       "      <td>58552</td>\n",
       "      <td>NaN</td>\n",
       "      <td>NaN</td>\n",
       "      <td>NaN</td>\n",
       "      <td>35816</td>\n",
       "      <td>NaN</td>\n",
       "      <td>NaN</td>\n",
       "      <td>NaN</td>\n",
       "      <td>NaN</td>\n",
       "    </tr>\n",
       "    <tr>\n",
       "      <th>mean</th>\n",
       "      <td>NaN</td>\n",
       "      <td>41.885856</td>\n",
       "      <td>0.07485</td>\n",
       "      <td>0.039420</td>\n",
       "      <td>NaN</td>\n",
       "      <td>27.320767</td>\n",
       "      <td>5.527507</td>\n",
       "      <td>138.058060</td>\n",
       "      <td>0.085000</td>\n",
       "    </tr>\n",
       "    <tr>\n",
       "      <th>std</th>\n",
       "      <td>NaN</td>\n",
       "      <td>22.516840</td>\n",
       "      <td>0.26315</td>\n",
       "      <td>0.194593</td>\n",
       "      <td>NaN</td>\n",
       "      <td>6.636783</td>\n",
       "      <td>1.070672</td>\n",
       "      <td>40.708136</td>\n",
       "      <td>0.278883</td>\n",
       "    </tr>\n",
       "    <tr>\n",
       "      <th>min</th>\n",
       "      <td>NaN</td>\n",
       "      <td>0.080000</td>\n",
       "      <td>0.00000</td>\n",
       "      <td>0.000000</td>\n",
       "      <td>NaN</td>\n",
       "      <td>10.010000</td>\n",
       "      <td>3.500000</td>\n",
       "      <td>80.000000</td>\n",
       "      <td>0.000000</td>\n",
       "    </tr>\n",
       "    <tr>\n",
       "      <th>25%</th>\n",
       "      <td>NaN</td>\n",
       "      <td>24.000000</td>\n",
       "      <td>0.00000</td>\n",
       "      <td>0.000000</td>\n",
       "      <td>NaN</td>\n",
       "      <td>23.630000</td>\n",
       "      <td>4.800000</td>\n",
       "      <td>100.000000</td>\n",
       "      <td>0.000000</td>\n",
       "    </tr>\n",
       "    <tr>\n",
       "      <th>50%</th>\n",
       "      <td>NaN</td>\n",
       "      <td>43.000000</td>\n",
       "      <td>0.00000</td>\n",
       "      <td>0.000000</td>\n",
       "      <td>NaN</td>\n",
       "      <td>27.320000</td>\n",
       "      <td>5.800000</td>\n",
       "      <td>140.000000</td>\n",
       "      <td>0.000000</td>\n",
       "    </tr>\n",
       "    <tr>\n",
       "      <th>75%</th>\n",
       "      <td>NaN</td>\n",
       "      <td>60.000000</td>\n",
       "      <td>0.00000</td>\n",
       "      <td>0.000000</td>\n",
       "      <td>NaN</td>\n",
       "      <td>29.580000</td>\n",
       "      <td>6.200000</td>\n",
       "      <td>159.000000</td>\n",
       "      <td>0.000000</td>\n",
       "    </tr>\n",
       "    <tr>\n",
       "      <th>max</th>\n",
       "      <td>NaN</td>\n",
       "      <td>80.000000</td>\n",
       "      <td>1.00000</td>\n",
       "      <td>1.000000</td>\n",
       "      <td>NaN</td>\n",
       "      <td>95.690000</td>\n",
       "      <td>9.000000</td>\n",
       "      <td>300.000000</td>\n",
       "      <td>1.000000</td>\n",
       "    </tr>\n",
       "  </tbody>\n",
       "</table>\n",
       "</div>"
      ],
      "text/plain": [
       "        gender            age  hypertension  heart_disease smoking_history  \\\n",
       "count   100000  100000.000000  100000.00000  100000.000000          100000   \n",
       "unique       3            NaN           NaN            NaN               6   \n",
       "top     Female            NaN           NaN            NaN         No Info   \n",
       "freq     58552            NaN           NaN            NaN           35816   \n",
       "mean       NaN      41.885856       0.07485       0.039420             NaN   \n",
       "std        NaN      22.516840       0.26315       0.194593             NaN   \n",
       "min        NaN       0.080000       0.00000       0.000000             NaN   \n",
       "25%        NaN      24.000000       0.00000       0.000000             NaN   \n",
       "50%        NaN      43.000000       0.00000       0.000000             NaN   \n",
       "75%        NaN      60.000000       0.00000       0.000000             NaN   \n",
       "max        NaN      80.000000       1.00000       1.000000             NaN   \n",
       "\n",
       "                  bmi    HbA1c_level  blood_glucose_level       diabetes  \n",
       "count   100000.000000  100000.000000        100000.000000  100000.000000  \n",
       "unique            NaN            NaN                  NaN            NaN  \n",
       "top               NaN            NaN                  NaN            NaN  \n",
       "freq              NaN            NaN                  NaN            NaN  \n",
       "mean        27.320767       5.527507           138.058060       0.085000  \n",
       "std          6.636783       1.070672            40.708136       0.278883  \n",
       "min         10.010000       3.500000            80.000000       0.000000  \n",
       "25%         23.630000       4.800000           100.000000       0.000000  \n",
       "50%         27.320000       5.800000           140.000000       0.000000  \n",
       "75%         29.580000       6.200000           159.000000       0.000000  \n",
       "max         95.690000       9.000000           300.000000       1.000000  "
      ]
     },
     "execution_count": 4,
     "metadata": {},
     "output_type": "execute_result"
    }
   ],
   "source": [
    "# Displaying summary statistics of the attributes\n",
    "df.describe(include=\"all\")"
   ]
  },
  {
   "cell_type": "code",
   "execution_count": 5,
   "id": "73d0b7e3",
   "metadata": {
    "execution": {
     "iopub.execute_input": "2024-05-27T12:51:56.769171Z",
     "iopub.status.busy": "2024-05-27T12:51:56.767600Z",
     "iopub.status.idle": "2024-05-27T12:51:56.777062Z",
     "shell.execute_reply": "2024-05-27T12:51:56.775208Z"
    },
    "papermill": {
     "duration": 0.030416,
     "end_time": "2024-05-27T12:51:56.780765",
     "exception": false,
     "start_time": "2024-05-27T12:51:56.750349",
     "status": "completed"
    },
    "tags": []
   },
   "outputs": [
    {
     "data": {
      "text/plain": [
       "(100000, 9)"
      ]
     },
     "execution_count": 5,
     "metadata": {},
     "output_type": "execute_result"
    }
   ],
   "source": [
    "# Dispaying number of rows and columns\n",
    "df.shape"
   ]
  },
  {
   "cell_type": "code",
   "execution_count": 6,
   "id": "d1aa8c17",
   "metadata": {
    "execution": {
     "iopub.execute_input": "2024-05-27T12:51:56.814723Z",
     "iopub.status.busy": "2024-05-27T12:51:56.814271Z",
     "iopub.status.idle": "2024-05-27T12:51:56.858288Z",
     "shell.execute_reply": "2024-05-27T12:51:56.856836Z"
    },
    "papermill": {
     "duration": 0.063831,
     "end_time": "2024-05-27T12:51:56.861326",
     "exception": false,
     "start_time": "2024-05-27T12:51:56.797495",
     "status": "completed"
    },
    "tags": []
   },
   "outputs": [
    {
     "name": "stdout",
     "output_type": "stream",
     "text": [
      "<class 'pandas.core.frame.DataFrame'>\n",
      "RangeIndex: 100000 entries, 0 to 99999\n",
      "Data columns (total 9 columns):\n",
      " #   Column               Non-Null Count   Dtype  \n",
      "---  ------               --------------   -----  \n",
      " 0   gender               100000 non-null  object \n",
      " 1   age                  100000 non-null  float64\n",
      " 2   hypertension         100000 non-null  int64  \n",
      " 3   heart_disease        100000 non-null  int64  \n",
      " 4   smoking_history      100000 non-null  object \n",
      " 5   bmi                  100000 non-null  float64\n",
      " 6   HbA1c_level          100000 non-null  float64\n",
      " 7   blood_glucose_level  100000 non-null  int64  \n",
      " 8   diabetes             100000 non-null  int64  \n",
      "dtypes: float64(3), int64(4), object(2)\n",
      "memory usage: 6.9+ MB\n"
     ]
    }
   ],
   "source": [
    "# Displaying the datatype of columns\n",
    "df.info()"
   ]
  },
  {
   "cell_type": "code",
   "execution_count": 7,
   "id": "80b0498c",
   "metadata": {
    "execution": {
     "iopub.execute_input": "2024-05-27T12:51:56.894268Z",
     "iopub.status.busy": "2024-05-27T12:51:56.893302Z",
     "iopub.status.idle": "2024-05-27T12:51:56.931979Z",
     "shell.execute_reply": "2024-05-27T12:51:56.930059Z"
    },
    "papermill": {
     "duration": 0.059567,
     "end_time": "2024-05-27T12:51:56.936078",
     "exception": false,
     "start_time": "2024-05-27T12:51:56.876511",
     "status": "completed"
    },
    "tags": []
   },
   "outputs": [
    {
     "data": {
      "text/plain": [
       "gender                 0\n",
       "age                    0\n",
       "hypertension           0\n",
       "heart_disease          0\n",
       "smoking_history        0\n",
       "bmi                    0\n",
       "HbA1c_level            0\n",
       "blood_glucose_level    0\n",
       "diabetes               0\n",
       "dtype: int64"
      ]
     },
     "execution_count": 7,
     "metadata": {},
     "output_type": "execute_result"
    }
   ],
   "source": [
    "# Checking null values in the dataset\n",
    "df.isnull().sum()"
   ]
  },
  {
   "cell_type": "code",
   "execution_count": 8,
   "id": "647a3d3a",
   "metadata": {
    "execution": {
     "iopub.execute_input": "2024-05-27T12:51:56.982525Z",
     "iopub.status.busy": "2024-05-27T12:51:56.980685Z",
     "iopub.status.idle": "2024-05-27T12:51:57.019833Z",
     "shell.execute_reply": "2024-05-27T12:51:57.017960Z"
    },
    "papermill": {
     "duration": 0.063471,
     "end_time": "2024-05-27T12:51:57.023540",
     "exception": false,
     "start_time": "2024-05-27T12:51:56.960069",
     "status": "completed"
    },
    "tags": []
   },
   "outputs": [
    {
     "data": {
      "text/plain": [
       "gender\n",
       "Female    58552\n",
       "Male      41430\n",
       "Other        18\n",
       "Name: count, dtype: int64"
      ]
     },
     "execution_count": 8,
     "metadata": {},
     "output_type": "execute_result"
    }
   ],
   "source": [
    "# Displaying number of males and females\n",
    "df['gender'].value_counts()"
   ]
  },
  {
   "cell_type": "code",
   "execution_count": 9,
   "id": "92a9a28e",
   "metadata": {
    "execution": {
     "iopub.execute_input": "2024-05-27T12:51:57.058150Z",
     "iopub.status.busy": "2024-05-27T12:51:57.057341Z",
     "iopub.status.idle": "2024-05-27T12:51:57.480862Z",
     "shell.execute_reply": "2024-05-27T12:51:57.479404Z"
    },
    "papermill": {
     "duration": 0.444471,
     "end_time": "2024-05-27T12:51:57.484012",
     "exception": false,
     "start_time": "2024-05-27T12:51:57.039541",
     "status": "completed"
    },
    "tags": []
   },
   "outputs": [
    {
     "data": {
      "image/png": "[encoded data removed]",
      "text/plain": [
       "<Figure size 640x480 with 1 Axes>"
      ]
     },
     "metadata": {},
     "output_type": "display_data"
    }
   ],
   "source": [
    "# Visualising the distribution between Gender and Diabetes\n",
    "ax = sns.countplot(x='gender', hue='diabetes', data=df, palette= \"Set1\")\n",
    "for label in ax.containers:\n",
    "    ax.bar_label(label)\n",
    "plt.show()"
   ]
  },
  {
   "cell_type": "markdown",
   "id": "3e9d7afe",
   "metadata": {
    "papermill": {
     "duration": 0.015165,
     "end_time": "2024-05-27T12:51:57.514993",
     "exception": false,
     "start_time": "2024-05-27T12:51:57.499828",
     "status": "completed"
    },
    "tags": []
   },
   "source": [
    "***We can see that there is a slight difference between male and females having diabetes and we see that the count of females is slightly higher than that of males***"
   ]
  },
  {
   "cell_type": "code",
   "execution_count": 10,
   "id": "58ebddb2",
   "metadata": {
    "execution": {
     "iopub.execute_input": "2024-05-27T12:51:57.549229Z",
     "iopub.status.busy": "2024-05-27T12:51:57.547949Z",
     "iopub.status.idle": "2024-05-27T12:51:57.783719Z",
     "shell.execute_reply": "2024-05-27T12:51:57.782399Z"
    },
    "papermill": {
     "duration": 0.256403,
     "end_time": "2024-05-27T12:51:57.786649",
     "exception": false,
     "start_time": "2024-05-27T12:51:57.530246",
     "status": "completed"
    },
    "tags": []
   },
   "outputs": [
    {
     "data": {
      "image/png": "[encoded data removed]",
      "text/plain": [
       "<Figure size 640x480 with 1 Axes>"
      ]
     },
     "metadata": {},
     "output_type": "display_data"
    }
   ],
   "source": [
    "# Visualising the distribution between Hyptertension and Diabetes\n",
    "bx = sns.countplot(x='hypertension', hue='diabetes', data=df, palette='Dark2')\n",
    "for label in bx.containers:\n",
    "    bx.bar_label(label)\n",
    "plt.show()"
   ]
  },
  {
   "cell_type": "markdown",
   "id": "92e818c5",
   "metadata": {
    "papermill": {
     "duration": 0.015249,
     "end_time": "2024-05-27T12:51:57.817865",
     "exception": false,
     "start_time": "2024-05-27T12:51:57.802616",
     "status": "completed"
    },
    "tags": []
   },
   "source": [
    "***We can see that patients having hypertension are more prone to diabetes compared to those who dont have hypertension***"
   ]
  },
  {
   "cell_type": "code",
   "execution_count": 11,
   "id": "bf568f3a",
   "metadata": {
    "execution": {
     "iopub.execute_input": "2024-05-27T12:51:57.853861Z",
     "iopub.status.busy": "2024-05-27T12:51:57.852986Z",
     "iopub.status.idle": "2024-05-27T12:51:58.094668Z",
     "shell.execute_reply": "2024-05-27T12:51:58.093570Z"
    },
    "papermill": {
     "duration": 0.262017,
     "end_time": "2024-05-27T12:51:58.097213",
     "exception": false,
     "start_time": "2024-05-27T12:51:57.835196",
     "status": "completed"
    },
    "tags": []
   },
   "outputs": [
    {
     "data": {
      "image/png": "[encoded data removed]",
      "text/plain": [
       "<Figure size 640x480 with 1 Axes>"
      ]
     },
     "metadata": {},
     "output_type": "display_data"
    }
   ],
   "source": [
    "# Visualising the distribution between Heart_disease and Diabetes\n",
    "cx = sns.countplot(x='heart_disease', hue='diabetes', data=df, palette='RdPu_r')\n",
    "for label in cx.containers:\n",
    "    cx.bar_label(label)\n",
    "plt.show()"
   ]
  },
  {
   "cell_type": "markdown",
   "id": "a785b7b4",
   "metadata": {
    "papermill": {
     "duration": 0.015836,
     "end_time": "2024-05-27T12:51:58.129663",
     "exception": false,
     "start_time": "2024-05-27T12:51:58.113827",
     "status": "completed"
    },
    "tags": []
   },
   "source": [
    "***We can observe that patients with heart disease are at high risk of getting diabetes***"
   ]
  },
  {
   "cell_type": "code",
   "execution_count": 12,
   "id": "86f4ff8e",
   "metadata": {
    "execution": {
     "iopub.execute_input": "2024-05-27T12:51:58.164956Z",
     "iopub.status.busy": "2024-05-27T12:51:58.163804Z",
     "iopub.status.idle": "2024-05-27T12:51:58.647466Z",
     "shell.execute_reply": "2024-05-27T12:51:58.645569Z"
    },
    "papermill": {
     "duration": 0.504799,
     "end_time": "2024-05-27T12:51:58.650809",
     "exception": false,
     "start_time": "2024-05-27T12:51:58.146010",
     "status": "completed"
    },
    "tags": []
   },
   "outputs": [
    {
     "data": {
      "image/png": "[encoded data removed]",
      "text/plain": [
       "<Figure size 640x480 with 1 Axes>"
      ]
     },
     "metadata": {},
     "output_type": "display_data"
    }
   ],
   "source": [
    "# Visualising the distribution between smoking_history and Diabetes\n",
    "dx = sns.countplot(x='smoking_history', hue='diabetes', data=df, palette='CMRmap_r')\n",
    "for label in dx.containers:\n",
    "    dx.bar_label(label)\n",
    "plt.show()"
   ]
  },
  {
   "cell_type": "code",
   "execution_count": 13,
   "id": "a517ef0a",
   "metadata": {
    "execution": {
     "iopub.execute_input": "2024-05-27T12:51:58.687862Z",
     "iopub.status.busy": "2024-05-27T12:51:58.687422Z",
     "iopub.status.idle": "2024-05-27T12:51:59.828683Z",
     "shell.execute_reply": "2024-05-27T12:51:59.827072Z"
    },
    "papermill": {
     "duration": 1.164374,
     "end_time": "2024-05-27T12:51:59.832461",
     "exception": false,
     "start_time": "2024-05-27T12:51:58.668087",
     "status": "completed"
    },
    "tags": []
   },
   "outputs": [
    {
     "name": "stderr",
     "output_type": "stream",
     "text": [
      "/opt/conda/lib/python3.10/site-packages/seaborn/_oldcore.py:1119: FutureWarning: use_inf_as_na option is deprecated and will be removed in a future version. Convert inf values to NaN before operating instead.\n",
      "  with pd.option_context('mode.use_inf_as_na', True):\n",
      "/opt/conda/lib/python3.10/site-packages/seaborn/_oldcore.py:1119: FutureWarning: use_inf_as_na option is deprecated and will be removed in a future version. Convert inf values to NaN before operating instead.\n",
      "  with pd.option_context('mode.use_inf_as_na', True):\n"
     ]
    },
    {
     "data": {
      "text/plain": [
       "<Axes: xlabel='diabetes', ylabel='bmi'>"
      ]
     },
     "execution_count": 13,
     "metadata": {},
     "output_type": "execute_result"
    },
    {
     "data": {
      "image/png": "[encoded data removed]",
      "text/plain": [
       "<Figure size 640x480 with 1 Axes>"
      ]
     },
     "metadata": {},
     "output_type": "display_data"
    }
   ],
   "source": [
    "# Visualising the relationship between BMI and Diabetes\n",
    "sns.lineplot(y='bmi', x='diabetes', data=df)"
   ]
  },
  {
   "cell_type": "markdown",
   "id": "309045da",
   "metadata": {
    "papermill": {
     "duration": 0.018125,
     "end_time": "2024-05-27T12:51:59.868857",
     "exception": false,
     "start_time": "2024-05-27T12:51:59.850732",
     "status": "completed"
    },
    "tags": []
   },
   "source": [
    "***We can see a linear relationship between people with high BMI and diabetes. We can state that people with high BMI index are more prone to diabetes***"
   ]
  },
  {
   "cell_type": "code",
   "execution_count": 14,
   "id": "f0ff42fe",
   "metadata": {
    "execution": {
     "iopub.execute_input": "2024-05-27T12:51:59.908180Z",
     "iopub.status.busy": "2024-05-27T12:51:59.907649Z",
     "iopub.status.idle": "2024-05-27T12:52:01.587604Z",
     "shell.execute_reply": "2024-05-27T12:52:01.586418Z"
    },
    "papermill": {
     "duration": 1.703676,
     "end_time": "2024-05-27T12:52:01.590897",
     "exception": false,
     "start_time": "2024-05-27T12:51:59.887221",
     "status": "completed"
    },
    "tags": []
   },
   "outputs": [
    {
     "name": "stderr",
     "output_type": "stream",
     "text": [
      "/opt/conda/lib/python3.10/site-packages/seaborn/_oldcore.py:1119: FutureWarning: use_inf_as_na option is deprecated and will be removed in a future version. Convert inf values to NaN before operating instead.\n",
      "  with pd.option_context('mode.use_inf_as_na', True):\n",
      "/opt/conda/lib/python3.10/site-packages/seaborn/_oldcore.py:1119: FutureWarning: use_inf_as_na option is deprecated and will be removed in a future version. Convert inf values to NaN before operating instead.\n",
      "  with pd.option_context('mode.use_inf_as_na', True):\n"
     ]
    },
    {
     "data": {
      "text/plain": [
       "<Axes: xlabel='HbA1c_level', ylabel='diabetes'>"
      ]
     },
     "execution_count": 14,
     "metadata": {},
     "output_type": "execute_result"
    },
    {
     "data": {
      "image/png": "[encoded data removed]",
      "text/plain": [
       "<Figure size 640x480 with 1 Axes>"
      ]
     },
     "metadata": {},
     "output_type": "display_data"
    }
   ],
   "source": [
    "# Visualising the relationship between HbA1c_level and Diabetes\n",
    "sns.lineplot(x='HbA1c_level', y='diabetes', data=df)"
   ]
  },
  {
   "cell_type": "markdown",
   "id": "b9263a3d",
   "metadata": {
    "papermill": {
     "duration": 0.019363,
     "end_time": "2024-05-27T12:52:01.629466",
     "exception": false,
     "start_time": "2024-05-27T12:52:01.610103",
     "status": "completed"
    },
    "tags": []
   },
   "source": [
    "***We observe that as the Hemoglobin A1c (average blood sugar level) increases we see a sudden sharp increase in diabetes***"
   ]
  },
  {
   "cell_type": "code",
   "execution_count": 15,
   "id": "dbfd9ac2",
   "metadata": {
    "execution": {
     "iopub.execute_input": "2024-05-27T12:52:01.674100Z",
     "iopub.status.busy": "2024-05-27T12:52:01.673164Z",
     "iopub.status.idle": "2024-05-27T12:52:03.398111Z",
     "shell.execute_reply": "2024-05-27T12:52:03.396059Z"
    },
    "papermill": {
     "duration": 1.752092,
     "end_time": "2024-05-27T12:52:03.402567",
     "exception": false,
     "start_time": "2024-05-27T12:52:01.650475",
     "status": "completed"
    },
    "tags": []
   },
   "outputs": [
    {
     "name": "stderr",
     "output_type": "stream",
     "text": [
      "/opt/conda/lib/python3.10/site-packages/seaborn/_oldcore.py:1119: FutureWarning: use_inf_as_na option is deprecated and will be removed in a future version. Convert inf values to NaN before operating instead.\n",
      "  with pd.option_context('mode.use_inf_as_na', True):\n",
      "/opt/conda/lib/python3.10/site-packages/seaborn/_oldcore.py:1119: FutureWarning: use_inf_as_na option is deprecated and will be removed in a future version. Convert inf values to NaN before operating instead.\n",
      "  with pd.option_context('mode.use_inf_as_na', True):\n"
     ]
    },
    {
     "data": {
      "text/plain": [
       "<Axes: xlabel='blood_glucose_level', ylabel='diabetes'>"
      ]
     },
     "execution_count": 15,
     "metadata": {},
     "output_type": "execute_result"
    },
    {
     "data": {
      "image/png": "[encoded data removed]",
      "text/plain": [
       "<Figure size 640x480 with 1 Axes>"
      ]
     },
     "metadata": {},
     "output_type": "display_data"
    }
   ],
   "source": [
    "# Visualising the relationship between blood_glucose_level and Diabetes\n",
    "sns.lineplot(x='blood_glucose_level', y='diabetes', data=df)"
   ]
  },
  {
   "cell_type": "markdown",
   "id": "8d7f002f",
   "metadata": {
    "papermill": {
     "duration": 0.021707,
     "end_time": "2024-05-27T12:52:03.445012",
     "exception": false,
     "start_time": "2024-05-27T12:52:03.423305",
     "status": "completed"
    },
    "tags": []
   },
   "source": [
    "***We observe that as the amount of glucose in bloodstream reaches 200 we see an increase in diabetes***"
   ]
  },
  {
   "cell_type": "code",
   "execution_count": 16,
   "id": "b1e8459e",
   "metadata": {
    "execution": {
     "iopub.execute_input": "2024-05-27T12:52:03.490833Z",
     "iopub.status.busy": "2024-05-27T12:52:03.490369Z",
     "iopub.status.idle": "2024-05-27T12:52:08.000649Z",
     "shell.execute_reply": "2024-05-27T12:52:07.998413Z"
    },
    "papermill": {
     "duration": 4.537227,
     "end_time": "2024-05-27T12:52:08.003681",
     "exception": false,
     "start_time": "2024-05-27T12:52:03.466454",
     "status": "completed"
    },
    "tags": []
   },
   "outputs": [
    {
     "name": "stderr",
     "output_type": "stream",
     "text": [
      "/opt/conda/lib/python3.10/site-packages/seaborn/_oldcore.py:1119: FutureWarning: use_inf_as_na option is deprecated and will be removed in a future version. Convert inf values to NaN before operating instead.\n",
      "  with pd.option_context('mode.use_inf_as_na', True):\n",
      "/opt/conda/lib/python3.10/site-packages/seaborn/_oldcore.py:1119: FutureWarning: use_inf_as_na option is deprecated and will be removed in a future version. Convert inf values to NaN before operating instead.\n",
      "  with pd.option_context('mode.use_inf_as_na', True):\n"
     ]
    },
    {
     "data": {
      "text/plain": [
       "<Axes: xlabel='age', ylabel='diabetes'>"
      ]
     },
     "execution_count": 16,
     "metadata": {},
     "output_type": "execute_result"
    },
    {
     "data": {
      "image/png": "[encoded data removed]",
      "text/plain": [
       "<Figure size 640x480 with 1 Axes>"
      ]
     },
     "metadata": {},
     "output_type": "display_data"
    }
   ],
   "source": [
    "# Visualising the relationship between Age and Diabetes\n",
    "sns.lineplot(x='age', y='diabetes', data=df)"
   ]
  },
  {
   "cell_type": "markdown",
   "id": "c01e062e",
   "metadata": {
    "papermill": {
     "duration": 0.02123,
     "end_time": "2024-05-27T12:52:08.050280",
     "exception": false,
     "start_time": "2024-05-27T12:52:08.029050",
     "status": "completed"
    },
    "tags": []
   },
   "source": [
    "***The relationship between age and diabetes is an exponential increase between the two***"
   ]
  },
  {
   "cell_type": "code",
   "execution_count": 17,
   "id": "5655d6fa",
   "metadata": {
    "execution": {
     "iopub.execute_input": "2024-05-27T12:52:08.094149Z",
     "iopub.status.busy": "2024-05-27T12:52:08.093631Z",
     "iopub.status.idle": "2024-05-27T12:52:08.113358Z",
     "shell.execute_reply": "2024-05-27T12:52:08.111547Z"
    },
    "papermill": {
     "duration": 0.045023,
     "end_time": "2024-05-27T12:52:08.116223",
     "exception": false,
     "start_time": "2024-05-27T12:52:08.071200",
     "status": "completed"
    },
    "tags": []
   },
   "outputs": [],
   "source": [
    "# Using .get_dummies function to convert the categorical datatype to numerical and storing the returned dataFrame in a new variable df1\n",
    "df1 = pd.get_dummies(df['gender'])"
   ]
  },
  {
   "cell_type": "code",
   "execution_count": 18,
   "id": "2480c192",
   "metadata": {
    "execution": {
     "iopub.execute_input": "2024-05-27T12:52:08.235882Z",
     "iopub.status.busy": "2024-05-27T12:52:08.234222Z",
     "iopub.status.idle": "2024-05-27T12:52:08.254953Z",
     "shell.execute_reply": "2024-05-27T12:52:08.253915Z"
    },
    "papermill": {
     "duration": 0.12181,
     "end_time": "2024-05-27T12:52:08.257863",
     "exception": false,
     "start_time": "2024-05-27T12:52:08.136053",
     "status": "completed"
    },
    "tags": []
   },
   "outputs": [],
   "source": [
    "# Using pd.concat to concatenate the dataframes df and df1 and storing the concatenated dataFrame in df.\n",
    "df = pd.concat([df, df1], axis=1).reindex(df.index)"
   ]
  },
  {
   "cell_type": "code",
   "execution_count": 19,
   "id": "d5a2a4e9",
   "metadata": {
    "execution": {
     "iopub.execute_input": "2024-05-27T12:52:08.301969Z",
     "iopub.status.busy": "2024-05-27T12:52:08.300755Z",
     "iopub.status.idle": "2024-05-27T12:52:08.314924Z",
     "shell.execute_reply": "2024-05-27T12:52:08.313155Z"
    },
    "papermill": {
     "duration": 0.039011,
     "end_time": "2024-05-27T12:52:08.317983",
     "exception": false,
     "start_time": "2024-05-27T12:52:08.278972",
     "status": "completed"
    },
    "tags": []
   },
   "outputs": [],
   "source": [
    "# Removing the column 'gender' from df as it is of no use now.\n",
    "df.drop('gender', axis=1, inplace=True)"
   ]
  },
  {
   "cell_type": "code",
   "execution_count": 20,
   "id": "2927fbf4",
   "metadata": {
    "execution": {
     "iopub.execute_input": "2024-05-27T12:52:08.362497Z",
     "iopub.status.busy": "2024-05-27T12:52:08.361972Z",
     "iopub.status.idle": "2024-05-27T12:52:08.377645Z",
     "shell.execute_reply": "2024-05-27T12:52:08.376218Z"
    },
    "papermill": {
     "duration": 0.042854,
     "end_time": "2024-05-27T12:52:08.381655",
     "exception": false,
     "start_time": "2024-05-27T12:52:08.338801",
     "status": "completed"
    },
    "tags": []
   },
   "outputs": [],
   "source": [
    "# We use .map() on a specific column and provide a dictionary to perform the mapping\n",
    "df['Female'] = df['Female'].map({True: 1, False: 0})\n",
    "df['Male'] = df['Male'].map({True: 1, False: 0})\n",
    "df['Other'] = df['Other'].map({True: 1, False: 0})"
   ]
  },
  {
   "cell_type": "code",
   "execution_count": 21,
   "id": "78c03f09",
   "metadata": {
    "execution": {
     "iopub.execute_input": "2024-05-27T12:52:08.430013Z",
     "iopub.status.busy": "2024-05-27T12:52:08.428896Z",
     "iopub.status.idle": "2024-05-27T12:52:08.451609Z",
     "shell.execute_reply": "2024-05-27T12:52:08.450411Z"
    },
    "papermill": {
     "duration": 0.05118,
     "end_time": "2024-05-27T12:52:08.454609",
     "exception": false,
     "start_time": "2024-05-27T12:52:08.403429",
     "status": "completed"
    },
    "tags": []
   },
   "outputs": [
    {
     "data": {
      "text/html": [
       "<div>\n",
       "<style scoped>\n",
       "    .dataframe tbody tr th:only-of-type {\n",
       "        vertical-align: middle;\n",
       "    }\n",
       "\n",
       "    .dataframe tbody tr th {\n",
       "        vertical-align: top;\n",
       "    }\n",
       "\n",
       "    .dataframe thead th {\n",
       "        text-align: right;\n",
       "    }\n",
       "</style>\n",
       "<table border=\"1\" class=\"dataframe\">\n",
       "  <thead>\n",
       "    <tr style=\"text-align: right;\">\n",
       "      <th></th>\n",
       "      <th>age</th>\n",
       "      <th>hypertension</th>\n",
       "      <th>heart_disease</th>\n",
       "      <th>smoking_history</th>\n",
       "      <th>bmi</th>\n",
       "      <th>HbA1c_level</th>\n",
       "      <th>blood_glucose_level</th>\n",
       "      <th>diabetes</th>\n",
       "      <th>Female</th>\n",
       "      <th>Male</th>\n",
       "      <th>Other</th>\n",
       "    </tr>\n",
       "  </thead>\n",
       "  <tbody>\n",
       "    <tr>\n",
       "      <th>0</th>\n",
       "      <td>80.0</td>\n",
       "      <td>0</td>\n",
       "      <td>1</td>\n",
       "      <td>never</td>\n",
       "      <td>25.19</td>\n",
       "      <td>6.6</td>\n",
       "      <td>140</td>\n",
       "      <td>0</td>\n",
       "      <td>1</td>\n",
       "      <td>0</td>\n",
       "      <td>0</td>\n",
       "    </tr>\n",
       "    <tr>\n",
       "      <th>1</th>\n",
       "      <td>54.0</td>\n",
       "      <td>0</td>\n",
       "      <td>0</td>\n",
       "      <td>No Info</td>\n",
       "      <td>27.32</td>\n",
       "      <td>6.6</td>\n",
       "      <td>80</td>\n",
       "      <td>0</td>\n",
       "      <td>1</td>\n",
       "      <td>0</td>\n",
       "      <td>0</td>\n",
       "    </tr>\n",
       "    <tr>\n",
       "      <th>2</th>\n",
       "      <td>28.0</td>\n",
       "      <td>0</td>\n",
       "      <td>0</td>\n",
       "      <td>never</td>\n",
       "      <td>27.32</td>\n",
       "      <td>5.7</td>\n",
       "      <td>158</td>\n",
       "      <td>0</td>\n",
       "      <td>0</td>\n",
       "      <td>1</td>\n",
       "      <td>0</td>\n",
       "    </tr>\n",
       "    <tr>\n",
       "      <th>3</th>\n",
       "      <td>36.0</td>\n",
       "      <td>0</td>\n",
       "      <td>0</td>\n",
       "      <td>current</td>\n",
       "      <td>23.45</td>\n",
       "      <td>5.0</td>\n",
       "      <td>155</td>\n",
       "      <td>0</td>\n",
       "      <td>1</td>\n",
       "      <td>0</td>\n",
       "      <td>0</td>\n",
       "    </tr>\n",
       "    <tr>\n",
       "      <th>4</th>\n",
       "      <td>76.0</td>\n",
       "      <td>1</td>\n",
       "      <td>1</td>\n",
       "      <td>current</td>\n",
       "      <td>20.14</td>\n",
       "      <td>4.8</td>\n",
       "      <td>155</td>\n",
       "      <td>0</td>\n",
       "      <td>0</td>\n",
       "      <td>1</td>\n",
       "      <td>0</td>\n",
       "    </tr>\n",
       "  </tbody>\n",
       "</table>\n",
       "</div>"
      ],
      "text/plain": [
       "    age  hypertension  heart_disease smoking_history    bmi  HbA1c_level  \\\n",
       "0  80.0             0              1           never  25.19          6.6   \n",
       "1  54.0             0              0         No Info  27.32          6.6   \n",
       "2  28.0             0              0           never  27.32          5.7   \n",
       "3  36.0             0              0         current  23.45          5.0   \n",
       "4  76.0             1              1         current  20.14          4.8   \n",
       "\n",
       "   blood_glucose_level  diabetes  Female  Male  Other  \n",
       "0                  140         0       1     0      0  \n",
       "1                   80         0       1     0      0  \n",
       "2                  158         0       0     1      0  \n",
       "3                  155         0       1     0      0  \n",
       "4                  155         0       0     1      0  "
      ]
     },
     "execution_count": 21,
     "metadata": {},
     "output_type": "execute_result"
    }
   ],
   "source": [
    "df.head()"
   ]
  },
  {
   "cell_type": "code",
   "execution_count": 22,
   "id": "f1ebeb8e",
   "metadata": {
    "execution": {
     "iopub.execute_input": "2024-05-27T12:52:08.500980Z",
     "iopub.status.busy": "2024-05-27T12:52:08.499819Z",
     "iopub.status.idle": "2024-05-27T12:52:08.517484Z",
     "shell.execute_reply": "2024-05-27T12:52:08.515877Z"
    },
    "papermill": {
     "duration": 0.045675,
     "end_time": "2024-05-27T12:52:08.522137",
     "exception": false,
     "start_time": "2024-05-27T12:52:08.476462",
     "status": "completed"
    },
    "tags": []
   },
   "outputs": [],
   "source": [
    "# Drop the 'smoking_history' column as it is non-numeric and we do not handle it here\n",
    "df = df.drop(columns=['smoking_history'])"
   ]
  },
  {
   "cell_type": "code",
   "execution_count": 23,
   "id": "a2206e93",
   "metadata": {
    "execution": {
     "iopub.execute_input": "2024-05-27T12:52:08.569916Z",
     "iopub.status.busy": "2024-05-27T12:52:08.568778Z",
     "iopub.status.idle": "2024-05-27T12:52:08.585155Z",
     "shell.execute_reply": "2024-05-27T12:52:08.583560Z"
    },
    "papermill": {
     "duration": 0.042265,
     "end_time": "2024-05-27T12:52:08.588538",
     "exception": false,
     "start_time": "2024-05-27T12:52:08.546273",
     "status": "completed"
    },
    "tags": []
   },
   "outputs": [],
   "source": [
    "# Define the feature set (X) and the target variable (y)\n",
    "X = df.drop(columns=['diabetes'])\n",
    "y = df['diabetes']"
   ]
  },
  {
   "cell_type": "code",
   "execution_count": 24,
   "id": "7c2e2cac",
   "metadata": {
    "execution": {
     "iopub.execute_input": "2024-05-27T12:52:08.634827Z",
     "iopub.status.busy": "2024-05-27T12:52:08.634375Z",
     "iopub.status.idle": "2024-05-27T12:52:08.667867Z",
     "shell.execute_reply": "2024-05-27T12:52:08.666661Z"
    },
    "papermill": {
     "duration": 0.060521,
     "end_time": "2024-05-27T12:52:08.670715",
     "exception": false,
     "start_time": "2024-05-27T12:52:08.610194",
     "status": "completed"
    },
    "tags": []
   },
   "outputs": [],
   "source": [
    "# Split the data into training and test sets\n",
    "X_train, X_test, y_train, y_test = train_test_split(X, y, test_size=0.2, random_state=42)"
   ]
  },
  {
   "cell_type": "code",
   "execution_count": 25,
   "id": "b3172d95",
   "metadata": {
    "execution": {
     "iopub.execute_input": "2024-05-27T12:52:08.717986Z",
     "iopub.status.busy": "2024-05-27T12:52:08.716401Z",
     "iopub.status.idle": "2024-05-27T12:52:08.755435Z",
     "shell.execute_reply": "2024-05-27T12:52:08.753727Z"
    },
    "papermill": {
     "duration": 0.065284,
     "end_time": "2024-05-27T12:52:08.758904",
     "exception": false,
     "start_time": "2024-05-27T12:52:08.693620",
     "status": "completed"
    },
    "tags": []
   },
   "outputs": [],
   "source": [
    "# Standardize the features\n",
    "scaler = StandardScaler()\n",
    "X_train_scaled = scaler.fit_transform(X_train)\n",
    "X_test_scaled = scaler.transform(X_test)"
   ]
  },
  {
   "cell_type": "code",
   "execution_count": 26,
   "id": "9b84c758",
   "metadata": {
    "execution": {
     "iopub.execute_input": "2024-05-27T12:52:08.806966Z",
     "iopub.status.busy": "2024-05-27T12:52:08.806553Z",
     "iopub.status.idle": "2024-05-27T12:52:08.966684Z",
     "shell.execute_reply": "2024-05-27T12:52:08.964922Z"
    },
    "papermill": {
     "duration": 0.187003,
     "end_time": "2024-05-27T12:52:08.969551",
     "exception": false,
     "start_time": "2024-05-27T12:52:08.782548",
     "status": "completed"
    },
    "tags": []
   },
   "outputs": [
    {
     "data": {
      "text/html": [
       "<style>#sk-container-id-1 {color: black;background-color: white;}#sk-container-id-1 pre{padding: 0;}#sk-container-id-1 div.sk-toggleable {background-color: white;}#sk-container-id-1 label.sk-toggleable__label {cursor: pointer;display: block;width: 100%;margin-bottom: 0;padding: 0.3em;box-sizing: border-box;text-align: center;}#sk-container-id-1 label.sk-toggleable__label-arrow:before {content: \"▸\";float: left;margin-right: 0.25em;color: #696969;}#sk-container-id-1 label.sk-toggleable__label-arrow:hover:before {color: black;}#sk-container-id-1 div.sk-estimator:hover label.sk-toggleable__label-arrow:before {color: black;}#sk-container-id-1 div.sk-toggleable__content {max-height: 0;max-width: 0;overflow: hidden;text-align: left;background-color: #f0f8ff;}#sk-container-id-1 div.sk-toggleable__content pre {margin: 0.2em;color: black;border-radius: 0.25em;background-color: #f0f8ff;}#sk-container-id-1 input.sk-toggleable__control:checked~div.sk-toggleable__content {max-height: 200px;max-width: 100%;overflow: auto;}#sk-container-id-1 input.sk-toggleable__control:checked~label.sk-toggleable__label-arrow:before {content: \"▾\";}#sk-container-id-1 div.sk-estimator input.sk-toggleable__control:checked~label.sk-toggleable__label {background-color: #d4ebff;}#sk-container-id-1 div.sk-label input.sk-toggleable__control:checked~label.sk-toggleable__label {background-color: #d4ebff;}#sk-container-id-1 input.sk-hidden--visually {border: 0;clip: rect(1px 1px 1px 1px);clip: rect(1px, 1px, 1px, 1px);height: 1px;margin: -1px;overflow: hidden;padding: 0;position: absolute;width: 1px;}#sk-container-id-1 div.sk-estimator {font-family: monospace;background-color: #f0f8ff;border: 1px dotted black;border-radius: 0.25em;box-sizing: border-box;margin-bottom: 0.5em;}#sk-container-id-1 div.sk-estimator:hover {background-color: #d4ebff;}#sk-container-id-1 div.sk-parallel-item::after {content: \"\";width: 100%;border-bottom: 1px solid gray;flex-grow: 1;}#sk-container-id-1 div.sk-label:hover label.sk-toggleable__label {background-color: #d4ebff;}#sk-container-id-1 div.sk-serial::before {content: \"\";position: absolute;border-left: 1px solid gray;box-sizing: border-box;top: 0;bottom: 0;left: 50%;z-index: 0;}#sk-container-id-1 div.sk-serial {display: flex;flex-direction: column;align-items: center;background-color: white;padding-right: 0.2em;padding-left: 0.2em;position: relative;}#sk-container-id-1 div.sk-item {position: relative;z-index: 1;}#sk-container-id-1 div.sk-parallel {display: flex;align-items: stretch;justify-content: center;background-color: white;position: relative;}#sk-container-id-1 div.sk-item::before, #sk-container-id-1 div.sk-parallel-item::before {content: \"\";position: absolute;border-left: 1px solid gray;box-sizing: border-box;top: 0;bottom: 0;left: 50%;z-index: -1;}#sk-container-id-1 div.sk-parallel-item {display: flex;flex-direction: column;z-index: 1;position: relative;background-color: white;}#sk-container-id-1 div.sk-parallel-item:first-child::after {align-self: flex-end;width: 50%;}#sk-container-id-1 div.sk-parallel-item:last-child::after {align-self: flex-start;width: 50%;}#sk-container-id-1 div.sk-parallel-item:only-child::after {width: 0;}#sk-container-id-1 div.sk-dashed-wrapped {border: 1px dashed gray;margin: 0 0.4em 0.5em 0.4em;box-sizing: border-box;padding-bottom: 0.4em;background-color: white;}#sk-container-id-1 div.sk-label label {font-family: monospace;font-weight: bold;display: inline-block;line-height: 1.2em;}#sk-container-id-1 div.sk-label-container {text-align: center;}#sk-container-id-1 div.sk-container {/* jupyter's `normalize.less` sets `[hidden] { display: none; }` but bootstrap.min.css set `[hidden] { display: none !important; }` so we also need the `!important` here to be able to override the default hidden behavior on the sphinx rendered scikit-learn.org. See: https://github.com/scikit-learn/scikit-learn/issues/21755 */display: inline-block !important;position: relative;}#sk-container-id-1 div.sk-text-repr-fallback {display: none;}</style><div id=\"sk-container-id-1\" class=\"sk-top-container\"><div class=\"sk-text-repr-fallback\"><pre>KNeighborsClassifier(n_neighbors=3)</pre><b>In a Jupyter environment, please rerun this cell to show the HTML representation or trust the notebook. <br />On GitHub, the HTML representation is unable to render, please try loading this page with nbviewer.org.</b></div><div class=\"sk-container\" hidden><div class=\"sk-item\"><div class=\"sk-estimator sk-toggleable\"><input class=\"sk-toggleable__control sk-hidden--visually\" id=\"sk-estimator-id-1\" type=\"checkbox\" checked><label for=\"sk-estimator-id-1\" class=\"sk-toggleable__label sk-toggleable__label-arrow\">KNeighborsClassifier</label><div class=\"sk-toggleable__content\"><pre>KNeighborsClassifier(n_neighbors=3)</pre></div></div></div></div></div>"
      ],
      "text/plain": [
       "KNeighborsClassifier(n_neighbors=3)"
      ]
     },
     "execution_count": 26,
     "metadata": {},
     "output_type": "execute_result"
    }
   ],
   "source": [
    "# Train the KNN classifier\n",
    "knn = KNeighborsClassifier(n_neighbors=3)  # You can adjust the number of neighbors\n",
    "knn.fit(X_train_scaled, y_train)"
   ]
  },
  {
   "cell_type": "code",
   "execution_count": 27,
   "id": "97f55f56",
   "metadata": {
    "execution": {
     "iopub.execute_input": "2024-05-27T12:52:09.026260Z",
     "iopub.status.busy": "2024-05-27T12:52:09.025131Z",
     "iopub.status.idle": "2024-05-27T12:52:17.109071Z",
     "shell.execute_reply": "2024-05-27T12:52:17.107779Z"
    },
    "papermill": {
     "duration": 8.120301,
     "end_time": "2024-05-27T12:52:17.112176",
     "exception": false,
     "start_time": "2024-05-27T12:52:08.991875",
     "status": "completed"
    },
    "tags": []
   },
   "outputs": [],
   "source": [
    "# Make predictions\n",
    "y_pred = knn.predict(X_test_scaled)"
   ]
  },
  {
   "cell_type": "code",
   "execution_count": 28,
   "id": "140594f4",
   "metadata": {
    "execution": {
     "iopub.execute_input": "2024-05-27T12:52:17.158419Z",
     "iopub.status.busy": "2024-05-27T12:52:17.157901Z",
     "iopub.status.idle": "2024-05-27T12:52:17.208172Z",
     "shell.execute_reply": "2024-05-27T12:52:17.206757Z"
    },
    "papermill": {
     "duration": 0.077274,
     "end_time": "2024-05-27T12:52:17.211116",
     "exception": false,
     "start_time": "2024-05-27T12:52:17.133842",
     "status": "completed"
    },
    "tags": []
   },
   "outputs": [],
   "source": [
    "# Evaluate the model\n",
    "accuracy = accuracy_score(y_test, y_pred)\n",
    "conf_matrix = confusion_matrix(y_test, y_pred)\n",
    "class_report = classification_report(y_test, y_pred)"
   ]
  },
  {
   "cell_type": "code",
   "execution_count": 29,
   "id": "db39a961",
   "metadata": {
    "execution": {
     "iopub.execute_input": "2024-05-27T12:52:17.255313Z",
     "iopub.status.busy": "2024-05-27T12:52:17.254803Z",
     "iopub.status.idle": "2024-05-27T12:52:17.262499Z",
     "shell.execute_reply": "2024-05-27T12:52:17.261207Z"
    },
    "papermill": {
     "duration": 0.033023,
     "end_time": "2024-05-27T12:52:17.264981",
     "exception": false,
     "start_time": "2024-05-27T12:52:17.231958",
     "status": "completed"
    },
    "tags": []
   },
   "outputs": [
    {
     "name": "stdout",
     "output_type": "stream",
     "text": [
      "Accuracy: 0.9618\n",
      "Confusion Matrix:\n",
      "[[18100   192]\n",
      " [  572  1136]]\n",
      "Classification Report:\n",
      "              precision    recall  f1-score   support\n",
      "\n",
      "           0       0.97      0.99      0.98     18292\n",
      "           1       0.86      0.67      0.75      1708\n",
      "\n",
      "    accuracy                           0.96     20000\n",
      "   macro avg       0.91      0.83      0.86     20000\n",
      "weighted avg       0.96      0.96      0.96     20000\n",
      "\n"
     ]
    }
   ],
   "source": [
    "# Print the evaluation results\n",
    "print(f'Accuracy: {accuracy}')\n",
    "print(f'Confusion Matrix:\\n{conf_matrix}')\n",
    "print(f'Classification Report:\\n{class_report}')"
   ]
  },
  {
   "cell_type": "code",
   "execution_count": 30,
   "id": "2fd74e21",
   "metadata": {
    "execution": {
     "iopub.execute_input": "2024-05-27T12:52:17.309676Z",
     "iopub.status.busy": "2024-05-27T12:52:17.308878Z",
     "iopub.status.idle": "2024-05-27T12:52:17.366815Z",
     "shell.execute_reply": "2024-05-27T12:52:17.365148Z"
    },
    "papermill": {
     "duration": 0.084543,
     "end_time": "2024-05-27T12:52:17.370725",
     "exception": false,
     "start_time": "2024-05-27T12:52:17.286182",
     "status": "completed"
    },
    "tags": []
   },
   "outputs": [],
   "source": [
    "# Standardize the features\n",
    "scaler = StandardScaler()\n",
    "X_train_scaled = scaler.fit_transform(X_train)\n",
    "X_test_scaled = scaler.transform(X_test)\n",
    "\n",
    "# Use a smaller subset for initial testing\n",
    "X_train_small, _, y_train_small, _ = train_test_split(X_train_scaled, y_train, test_size=0.8, random_state=42)\n"
   ]
  },
  {
   "cell_type": "code",
   "execution_count": 31,
   "id": "4a5e6fb4",
   "metadata": {
    "execution": {
     "iopub.execute_input": "2024-05-27T12:52:17.415288Z",
     "iopub.status.busy": "2024-05-27T12:52:17.414813Z",
     "iopub.status.idle": "2024-05-27T12:52:30.354221Z",
     "shell.execute_reply": "2024-05-27T12:52:30.352486Z"
    },
    "papermill": {
     "duration": 12.966047,
     "end_time": "2024-05-27T12:52:30.357820",
     "exception": false,
     "start_time": "2024-05-27T12:52:17.391773",
     "status": "completed"
    },
    "tags": []
   },
   "outputs": [
    {
     "data": {
      "text/html": [
       "<style>#sk-container-id-2 {color: black;background-color: white;}#sk-container-id-2 pre{padding: 0;}#sk-container-id-2 div.sk-toggleable {background-color: white;}#sk-container-id-2 label.sk-toggleable__label {cursor: pointer;display: block;width: 100%;margin-bottom: 0;padding: 0.3em;box-sizing: border-box;text-align: center;}#sk-container-id-2 label.sk-toggleable__label-arrow:before {content: \"▸\";float: left;margin-right: 0.25em;color: #696969;}#sk-container-id-2 label.sk-toggleable__label-arrow:hover:before {color: black;}#sk-container-id-2 div.sk-estimator:hover label.sk-toggleable__label-arrow:before {color: black;}#sk-container-id-2 div.sk-toggleable__content {max-height: 0;max-width: 0;overflow: hidden;text-align: left;background-color: #f0f8ff;}#sk-container-id-2 div.sk-toggleable__content pre {margin: 0.2em;color: black;border-radius: 0.25em;background-color: #f0f8ff;}#sk-container-id-2 input.sk-toggleable__control:checked~div.sk-toggleable__content {max-height: 200px;max-width: 100%;overflow: auto;}#sk-container-id-2 input.sk-toggleable__control:checked~label.sk-toggleable__label-arrow:before {content: \"▾\";}#sk-container-id-2 div.sk-estimator input.sk-toggleable__control:checked~label.sk-toggleable__label {background-color: #d4ebff;}#sk-container-id-2 div.sk-label input.sk-toggleable__control:checked~label.sk-toggleable__label {background-color: #d4ebff;}#sk-container-id-2 input.sk-hidden--visually {border: 0;clip: rect(1px 1px 1px 1px);clip: rect(1px, 1px, 1px, 1px);height: 1px;margin: -1px;overflow: hidden;padding: 0;position: absolute;width: 1px;}#sk-container-id-2 div.sk-estimator {font-family: monospace;background-color: #f0f8ff;border: 1px dotted black;border-radius: 0.25em;box-sizing: border-box;margin-bottom: 0.5em;}#sk-container-id-2 div.sk-estimator:hover {background-color: #d4ebff;}#sk-container-id-2 div.sk-parallel-item::after {content: \"\";width: 100%;border-bottom: 1px solid gray;flex-grow: 1;}#sk-container-id-2 div.sk-label:hover label.sk-toggleable__label {background-color: #d4ebff;}#sk-container-id-2 div.sk-serial::before {content: \"\";position: absolute;border-left: 1px solid gray;box-sizing: border-box;top: 0;bottom: 0;left: 50%;z-index: 0;}#sk-container-id-2 div.sk-serial {display: flex;flex-direction: column;align-items: center;background-color: white;padding-right: 0.2em;padding-left: 0.2em;position: relative;}#sk-container-id-2 div.sk-item {position: relative;z-index: 1;}#sk-container-id-2 div.sk-parallel {display: flex;align-items: stretch;justify-content: center;background-color: white;position: relative;}#sk-container-id-2 div.sk-item::before, #sk-container-id-2 div.sk-parallel-item::before {content: \"\";position: absolute;border-left: 1px solid gray;box-sizing: border-box;top: 0;bottom: 0;left: 50%;z-index: -1;}#sk-container-id-2 div.sk-parallel-item {display: flex;flex-direction: column;z-index: 1;position: relative;background-color: white;}#sk-container-id-2 div.sk-parallel-item:first-child::after {align-self: flex-end;width: 50%;}#sk-container-id-2 div.sk-parallel-item:last-child::after {align-self: flex-start;width: 50%;}#sk-container-id-2 div.sk-parallel-item:only-child::after {width: 0;}#sk-container-id-2 div.sk-dashed-wrapped {border: 1px dashed gray;margin: 0 0.4em 0.5em 0.4em;box-sizing: border-box;padding-bottom: 0.4em;background-color: white;}#sk-container-id-2 div.sk-label label {font-family: monospace;font-weight: bold;display: inline-block;line-height: 1.2em;}#sk-container-id-2 div.sk-label-container {text-align: center;}#sk-container-id-2 div.sk-container {/* jupyter's `normalize.less` sets `[hidden] { display: none; }` but bootstrap.min.css set `[hidden] { display: none !important; }` so we also need the `!important` here to be able to override the default hidden behavior on the sphinx rendered scikit-learn.org. See: https://github.com/scikit-learn/scikit-learn/issues/21755 */display: inline-block !important;position: relative;}#sk-container-id-2 div.sk-text-repr-fallback {display: none;}</style><div id=\"sk-container-id-2\" class=\"sk-top-container\"><div class=\"sk-text-repr-fallback\"><pre>RandomizedSearchCV(cv=5, estimator=KNeighborsClassifier(), n_jobs=-1,\n",
       "                   param_distributions={&#x27;n_neighbors&#x27;: [1, 2, 3, 4, 5, 6, 7, 8,\n",
       "                                                        9, 10]},\n",
       "                   random_state=42, scoring=&#x27;accuracy&#x27;)</pre><b>In a Jupyter environment, please rerun this cell to show the HTML representation or trust the notebook. <br />On GitHub, the HTML representation is unable to render, please try loading this page with nbviewer.org.</b></div><div class=\"sk-container\" hidden><div class=\"sk-item sk-dashed-wrapped\"><div class=\"sk-label-container\"><div class=\"sk-label sk-toggleable\"><input class=\"sk-toggleable__control sk-hidden--visually\" id=\"sk-estimator-id-2\" type=\"checkbox\" ><label for=\"sk-estimator-id-2\" class=\"sk-toggleable__label sk-toggleable__label-arrow\">RandomizedSearchCV</label><div class=\"sk-toggleable__content\"><pre>RandomizedSearchCV(cv=5, estimator=KNeighborsClassifier(), n_jobs=-1,\n",
       "                   param_distributions={&#x27;n_neighbors&#x27;: [1, 2, 3, 4, 5, 6, 7, 8,\n",
       "                                                        9, 10]},\n",
       "                   random_state=42, scoring=&#x27;accuracy&#x27;)</pre></div></div></div><div class=\"sk-parallel\"><div class=\"sk-parallel-item\"><div class=\"sk-item\"><div class=\"sk-label-container\"><div class=\"sk-label sk-toggleable\"><input class=\"sk-toggleable__control sk-hidden--visually\" id=\"sk-estimator-id-3\" type=\"checkbox\" ><label for=\"sk-estimator-id-3\" class=\"sk-toggleable__label sk-toggleable__label-arrow\">estimator: KNeighborsClassifier</label><div class=\"sk-toggleable__content\"><pre>KNeighborsClassifier()</pre></div></div></div><div class=\"sk-serial\"><div class=\"sk-item\"><div class=\"sk-estimator sk-toggleable\"><input class=\"sk-toggleable__control sk-hidden--visually\" id=\"sk-estimator-id-4\" type=\"checkbox\" ><label for=\"sk-estimator-id-4\" class=\"sk-toggleable__label sk-toggleable__label-arrow\">KNeighborsClassifier</label><div class=\"sk-toggleable__content\"><pre>KNeighborsClassifier()</pre></div></div></div></div></div></div></div></div></div></div>"
      ],
      "text/plain": [
       "RandomizedSearchCV(cv=5, estimator=KNeighborsClassifier(), n_jobs=-1,\n",
       "                   param_distributions={'n_neighbors': [1, 2, 3, 4, 5, 6, 7, 8,\n",
       "                                                        9, 10]},\n",
       "                   random_state=42, scoring='accuracy')"
      ]
     },
     "execution_count": 31,
     "metadata": {},
     "output_type": "execute_result"
    }
   ],
   "source": [
    "# Define a smaller range of k values to test\n",
    "k_values = list(range(1, 11))\n",
    "\n",
    "# Use RandomizedSearchCV instead of GridSearchCV\n",
    "param_dist = {'n_neighbors': k_values}\n",
    "random_search = RandomizedSearchCV(KNeighborsClassifier(), param_dist, n_iter=10, cv=5, scoring='accuracy', n_jobs=-1, random_state=42)\n",
    "random_search.fit(X_train_small, y_train_small)"
   ]
  },
  {
   "cell_type": "code",
   "execution_count": 32,
   "id": "5474d738",
   "metadata": {
    "execution": {
     "iopub.execute_input": "2024-05-27T12:52:30.405950Z",
     "iopub.status.busy": "2024-05-27T12:52:30.405511Z",
     "iopub.status.idle": "2024-05-27T12:52:30.414079Z",
     "shell.execute_reply": "2024-05-27T12:52:30.412415Z"
    },
    "papermill": {
     "duration": 0.036227,
     "end_time": "2024-05-27T12:52:30.417038",
     "exception": false,
     "start_time": "2024-05-27T12:52:30.380811",
     "status": "completed"
    },
    "tags": []
   },
   "outputs": [
    {
     "name": "stdout",
     "output_type": "stream",
     "text": [
      "Best k value: 9\n",
      "Best cross-validated accuracy: 0.9625\n"
     ]
    }
   ],
   "source": [
    "# Get the best k value and the corresponding accuracy\n",
    "best_k = random_search.best_params_['n_neighbors']\n",
    "best_accuracy = random_search.best_score_\n",
    "\n",
    "print(f'Best k value: {best_k}')\n",
    "print(f'Best cross-validated accuracy: {best_accuracy}')\n"
   ]
  },
  {
   "cell_type": "code",
   "execution_count": 33,
   "id": "6bf9d939",
   "metadata": {
    "execution": {
     "iopub.execute_input": "2024-05-27T12:52:30.465672Z",
     "iopub.status.busy": "2024-05-27T12:52:30.465234Z",
     "iopub.status.idle": "2024-05-27T12:52:30.607457Z",
     "shell.execute_reply": "2024-05-27T12:52:30.606064Z"
    },
    "papermill": {
     "duration": 0.17094,
     "end_time": "2024-05-27T12:52:30.610519",
     "exception": false,
     "start_time": "2024-05-27T12:52:30.439579",
     "status": "completed"
    },
    "tags": []
   },
   "outputs": [
    {
     "data": {
      "text/html": [
       "<style>#sk-container-id-3 {color: black;background-color: white;}#sk-container-id-3 pre{padding: 0;}#sk-container-id-3 div.sk-toggleable {background-color: white;}#sk-container-id-3 label.sk-toggleable__label {cursor: pointer;display: block;width: 100%;margin-bottom: 0;padding: 0.3em;box-sizing: border-box;text-align: center;}#sk-container-id-3 label.sk-toggleable__label-arrow:before {content: \"▸\";float: left;margin-right: 0.25em;color: #696969;}#sk-container-id-3 label.sk-toggleable__label-arrow:hover:before {color: black;}#sk-container-id-3 div.sk-estimator:hover label.sk-toggleable__label-arrow:before {color: black;}#sk-container-id-3 div.sk-toggleable__content {max-height: 0;max-width: 0;overflow: hidden;text-align: left;background-color: #f0f8ff;}#sk-container-id-3 div.sk-toggleable__content pre {margin: 0.2em;color: black;border-radius: 0.25em;background-color: #f0f8ff;}#sk-container-id-3 input.sk-toggleable__control:checked~div.sk-toggleable__content {max-height: 200px;max-width: 100%;overflow: auto;}#sk-container-id-3 input.sk-toggleable__control:checked~label.sk-toggleable__label-arrow:before {content: \"▾\";}#sk-container-id-3 div.sk-estimator input.sk-toggleable__control:checked~label.sk-toggleable__label {background-color: #d4ebff;}#sk-container-id-3 div.sk-label input.sk-toggleable__control:checked~label.sk-toggleable__label {background-color: #d4ebff;}#sk-container-id-3 input.sk-hidden--visually {border: 0;clip: rect(1px 1px 1px 1px);clip: rect(1px, 1px, 1px, 1px);height: 1px;margin: -1px;overflow: hidden;padding: 0;position: absolute;width: 1px;}#sk-container-id-3 div.sk-estimator {font-family: monospace;background-color: #f0f8ff;border: 1px dotted black;border-radius: 0.25em;box-sizing: border-box;margin-bottom: 0.5em;}#sk-container-id-3 div.sk-estimator:hover {background-color: #d4ebff;}#sk-container-id-3 div.sk-parallel-item::after {content: \"\";width: 100%;border-bottom: 1px solid gray;flex-grow: 1;}#sk-container-id-3 div.sk-label:hover label.sk-toggleable__label {background-color: #d4ebff;}#sk-container-id-3 div.sk-serial::before {content: \"\";position: absolute;border-left: 1px solid gray;box-sizing: border-box;top: 0;bottom: 0;left: 50%;z-index: 0;}#sk-container-id-3 div.sk-serial {display: flex;flex-direction: column;align-items: center;background-color: white;padding-right: 0.2em;padding-left: 0.2em;position: relative;}#sk-container-id-3 div.sk-item {position: relative;z-index: 1;}#sk-container-id-3 div.sk-parallel {display: flex;align-items: stretch;justify-content: center;background-color: white;position: relative;}#sk-container-id-3 div.sk-item::before, #sk-container-id-3 div.sk-parallel-item::before {content: \"\";position: absolute;border-left: 1px solid gray;box-sizing: border-box;top: 0;bottom: 0;left: 50%;z-index: -1;}#sk-container-id-3 div.sk-parallel-item {display: flex;flex-direction: column;z-index: 1;position: relative;background-color: white;}#sk-container-id-3 div.sk-parallel-item:first-child::after {align-self: flex-end;width: 50%;}#sk-container-id-3 div.sk-parallel-item:last-child::after {align-self: flex-start;width: 50%;}#sk-container-id-3 div.sk-parallel-item:only-child::after {width: 0;}#sk-container-id-3 div.sk-dashed-wrapped {border: 1px dashed gray;margin: 0 0.4em 0.5em 0.4em;box-sizing: border-box;padding-bottom: 0.4em;background-color: white;}#sk-container-id-3 div.sk-label label {font-family: monospace;font-weight: bold;display: inline-block;line-height: 1.2em;}#sk-container-id-3 div.sk-label-container {text-align: center;}#sk-container-id-3 div.sk-container {/* jupyter's `normalize.less` sets `[hidden] { display: none; }` but bootstrap.min.css set `[hidden] { display: none !important; }` so we also need the `!important` here to be able to override the default hidden behavior on the sphinx rendered scikit-learn.org. See: https://github.com/scikit-learn/scikit-learn/issues/21755 */display: inline-block !important;position: relative;}#sk-container-id-3 div.sk-text-repr-fallback {display: none;}</style><div id=\"sk-container-id-3\" class=\"sk-top-container\"><div class=\"sk-text-repr-fallback\"><pre>KNeighborsClassifier(n_neighbors=9)</pre><b>In a Jupyter environment, please rerun this cell to show the HTML representation or trust the notebook. <br />On GitHub, the HTML representation is unable to render, please try loading this page with nbviewer.org.</b></div><div class=\"sk-container\" hidden><div class=\"sk-item\"><div class=\"sk-estimator sk-toggleable\"><input class=\"sk-toggleable__control sk-hidden--visually\" id=\"sk-estimator-id-5\" type=\"checkbox\" checked><label for=\"sk-estimator-id-5\" class=\"sk-toggleable__label sk-toggleable__label-arrow\">KNeighborsClassifier</label><div class=\"sk-toggleable__content\"><pre>KNeighborsClassifier(n_neighbors=9)</pre></div></div></div></div></div>"
      ],
      "text/plain": [
       "KNeighborsClassifier(n_neighbors=9)"
      ]
     },
     "execution_count": 33,
     "metadata": {},
     "output_type": "execute_result"
    }
   ],
   "source": [
    "# Train the final model with the best k value\n",
    "knn_best = KNeighborsClassifier(n_neighbors=best_k)\n",
    "knn_best.fit(X_train_scaled, y_train)\n"
   ]
  },
  {
   "cell_type": "code",
   "execution_count": 34,
   "id": "e8d78b6c",
   "metadata": {
    "execution": {
     "iopub.execute_input": "2024-05-27T12:52:30.662196Z",
     "iopub.status.busy": "2024-05-27T12:52:30.661775Z",
     "iopub.status.idle": "2024-05-27T12:52:38.154266Z",
     "shell.execute_reply": "2024-05-27T12:52:38.152520Z"
    },
    "papermill": {
     "duration": 7.520736,
     "end_time": "2024-05-27T12:52:38.157205",
     "exception": false,
     "start_time": "2024-05-27T12:52:30.636469",
     "status": "completed"
    },
    "tags": []
   },
   "outputs": [
    {
     "name": "stdout",
     "output_type": "stream",
     "text": [
      "Accuracy with best k: 0.9647\n",
      "Confusion Matrix with best k:\n",
      "[[18230    62]\n",
      " [  644  1064]]\n",
      "Classification Report with best k:\n",
      "              precision    recall  f1-score   support\n",
      "\n",
      "           0       0.97      1.00      0.98     18292\n",
      "           1       0.94      0.62      0.75      1708\n",
      "\n",
      "    accuracy                           0.96     20000\n",
      "   macro avg       0.96      0.81      0.87     20000\n",
      "weighted avg       0.96      0.96      0.96     20000\n",
      "\n"
     ]
    }
   ],
   "source": [
    "# Make predictions and evaluate the final model\n",
    "y_pred_best = knn_best.predict(X_test_scaled)\n",
    "\n",
    "accuracy_best = accuracy_score(y_test, y_pred_best)\n",
    "conf_matrix_best = confusion_matrix(y_test, y_pred_best)\n",
    "class_report_best = classification_report(y_test, y_pred_best)\n",
    "\n",
    "print(f'Accuracy with best k: {accuracy_best}')\n",
    "print(f'Confusion Matrix with best k:\\n{conf_matrix_best}')\n",
    "print(f'Classification Report with best k:\\n{class_report_best}')"
   ]
  },
  {
   "cell_type": "code",
   "execution_count": null,
   "id": "62e82f72",
   "metadata": {
    "papermill": {
     "duration": 0.021889,
     "end_time": "2024-05-27T12:52:38.201743",
     "exception": false,
     "start_time": "2024-05-27T12:52:38.179854",
     "status": "completed"
    },
    "tags": []
   },
   "outputs": [],
   "source": []
  }
 ],
 "metadata": {
  "kaggle": {
   "accelerator": "none",
   "dataSources": [
    {
     "datasetId": 3102947,
     "sourceId": 5344155,
     "sourceType": "datasetVersion"
    }
   ],
   "dockerImageVersionId": 30698,
   "isGpuEnabled": false,
   "isInternetEnabled": true,
   "language": "python",
   "sourceType": "notebook"
  },
  "kernelspec": {
   "display_name": "Python 3",
   "language": "python",
   "name": "python3"
  },
  "language_info": {
   "codemirror_mode": {
    "name": "ipython",
    "version": 3
   },
   "file_extension": ".py",
   "mimetype": "text/x-python",
   "name": "python",
   "nbconvert_exporter": "python",
   "pygments_lexer": "ipython3",
   "version": "3.10.13"
  },
  "papermill": {
   "default_parameters": {},
   "duration": 52.460283,
   "end_time": "2024-05-27T12:52:40.848855",
   "environment_variables": {},
   "exception": null,
   "input_path": "__notebook__.ipynb",
   "output_path": "__notebook__.ipynb",
   "parameters": {},
   "start_time": "2024-05-27T12:51:48.388572",
   "version": "2.5.0"
  }
 },
 "nbformat": 4,
 "nbformat_minor": 5
}
